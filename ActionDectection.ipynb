{
 "cells": [
  {
   "cell_type": "markdown",
   "metadata": {},
   "source": [
    "#### 1. Import and Install Dependencies"
   ]
  },
  {
   "cell_type": "code",
   "execution_count": null,
   "metadata": {},
   "outputs": [],
   "source": [
    "%pip install tensorflow==2.4.1 tensorflow-gpu==2.4.1 opencv-python mediapipe scikit-learn matplotlib"
   ]
  },
  {
   "cell_type": "code",
   "execution_count": 1,
   "metadata": {},
   "outputs": [],
   "source": [
    "import cv2\n",
    "import numpy as np\n",
    "import os\n",
    "from matplotlib import pyplot as plt\n",
    "import time\n",
    "import mediapipe as mp"
   ]
  },
  {
   "cell_type": "markdown",
   "metadata": {},
   "source": [
    "#### 2. Keypoints using MP Holistic"
   ]
  },
  {
   "cell_type": "code",
   "execution_count": 40,
   "metadata": {},
   "outputs": [],
   "source": [
    "mp_holistic = mp.solutions.holistic # Holistic model\n",
    "mp_drawing = mp.solutions.drawing_utils # Drawing utilities"
   ]
  },
  {
   "cell_type": "code",
   "execution_count": 42,
   "metadata": {},
   "outputs": [],
   "source": [
    "def mediapipe_detection(image, model):\n",
    "    image = cv2.cvtColor(image, cv2.COLOR_BGR2RGB) # COLOR CONVERSION BGR 2 RGB\n",
    "    image.flags.writeable = False\n",
    "    results = model.process(image)                 # Make prediction\n",
    "    image.flags.writeable = True\n",
    "    image = cv2.cvtColor(image, cv2.COLOR_RGB2BGR) # COLOR CONVERSION RGB 2 BGR\n",
    "    return image, results"
   ]
  },
  {
   "cell_type": "code",
   "execution_count": 43,
   "metadata": {},
   "outputs": [],
   "source": [
    "def draw_landmarks(image, results):\n",
    "    mp_drawing.draw_landmarks(image, results.face_landmarks, mp_holistic.FACEMESH_CONTOURS,\n",
    "                              mp_drawing.DrawingSpec(color=(80,110,10), thickness=1, circle_radius=1),\n",
    "                              mp_drawing.DrawingSpec(color=(80,256,121), thickness=1, circle_radius=1)\n",
    "                              )\n",
    "\n",
    "    mp_drawing.draw_landmarks(image, results.pose_landmarks, mp_holistic.POSE_CONNECTIONS,\n",
    "                              mp_drawing.DrawingSpec(color=(80,22,10), thickness=2, circle_radius=4),\n",
    "                              mp_drawing.DrawingSpec(color=(80,44,121), thickness=2, circle_radius=2)\n",
    "                              )\n",
    "\n",
    "    mp_drawing.draw_landmarks(image, results.left_hand_landmarks, mp_holistic.HAND_CONNECTIONS,\n",
    "                              mp_drawing.DrawingSpec(color=(121,22,76), thickness=2, circle_radius=4),\n",
    "                              mp_drawing.DrawingSpec(color=(121,44,250), thickness=2, circle_radius=2)\n",
    "                              )\n",
    "\n",
    "    mp_drawing.draw_landmarks(image, results.right_hand_landmarks, mp_holistic.HAND_CONNECTIONS,\n",
    "                              mp_drawing.DrawingSpec(color=(245,117,66), thickness=2, circle_radius=4),\n",
    "                              mp_drawing.DrawingSpec(color=(245,66,230), thickness=2, circle_radius=2)\n",
    "                              )"
   ]
  },
  {
   "cell_type": "code",
   "execution_count": 5,
   "metadata": {},
   "outputs": [],
   "source": [
    "cap = cv2.VideoCapture(0)\n",
    "# Set mediapipe model\n",
    "with mp_holistic.Holistic(min_detection_confidence=0.5, min_tracking_confidence=0.5) as holistic :\n",
    "    while cap.isOpened():\n",
    "\n",
    "        # Read feed \n",
    "        ret, frame = cap.read()\n",
    "\n",
    "        # Make prediction\n",
    "        image, results = mediapipe_detection(frame, holistic)\n",
    "\n",
    "        # Draw landmarks\n",
    "        draw_landmarks(image, results)\n",
    "\n",
    "        # Show to screen\n",
    "        cv2.imshow('OpenCV Feed', image)\n",
    "\n",
    "        # Break gracefully\n",
    "        if cv2.waitKey(10) & 0xFF == ord('q'):\n",
    "            break\n",
    "\n",
    "    cap.release()\n",
    "    cv2.destroyAllWindows()"
   ]
  },
  {
   "cell_type": "markdown",
   "metadata": {},
   "source": [
    "#### 3. Extract Keypoint Values"
   ]
  },
  {
   "cell_type": "code",
   "execution_count": 45,
   "metadata": {},
   "outputs": [],
   "source": [
    "def extract_keypoints(results):\n",
    "    face = np.array([[res.x, res.y, res.z] for res in results.face_landmarks.landmark]).flatten() if results.face_landmarks else np.zeros(468 * 3)\n",
    "    pose = np.array([[res.x, res.y, res.z, res.visibility] for res in results.pose_landmarks.landmark]).flatten() if results.pose_landmarks else np.zeros(33 * 4)\n",
    "    lh = np.array([[res.x, res.y, res.z] for res in results.left_hand_landmarks.landmark]).flatten() if results.left_hand_landmarks else np.zeros(21 * 3)\n",
    "    rh = np.array([[res.x, res.y, res.z] for res in results.right_hand_landmarks.landmark]).flatten() if results.right_hand_landmarks else np.zeros(21 * 3)\n",
    "    \n",
    "#     print(\n",
    "# \"\"\"\n",
    "#     Face shape       : {0}\n",
    "#     Pose shape       : {1}\n",
    "#     Left hand shape  : {2}\n",
    "#     Right hand shape : {3}\n",
    "# \"\"\".format(\n",
    "#     face.shape,\n",
    "#     pose.shape,\n",
    "#     lh.shape,\n",
    "#     rh.shape,\n",
    "#     )\n",
    "# )\n",
    "    return np.concatenate([face, pose, lh, rh])"
   ]
  },
  {
   "cell_type": "code",
   "execution_count": 92,
   "metadata": {},
   "outputs": [
    {
     "data": {
      "text/plain": [
       "(1662,)"
      ]
     },
     "execution_count": 92,
     "metadata": {},
     "output_type": "execute_result"
    }
   ],
   "source": [
    "extract_keypoints(results).shape"
   ]
  },
  {
   "cell_type": "markdown",
   "metadata": {},
   "source": [
    "#### 4. Setup Folders for Collection"
   ]
  },
  {
   "cell_type": "code",
   "execution_count": 2,
   "metadata": {},
   "outputs": [],
   "source": [
    "# Path for exported data, numpy arrays\n",
    "DATA_PATH = os.path.join('MP_Data')\n",
    "\n",
    "# Actions that we try to detect\n",
    "actions = np.array(['hello', 'thanks', 'iloveyou'])\n",
    "\n",
    "# Thirty videos worth of data\n",
    "no_sequences = 30\n",
    "\n",
    "# Video are going to be 30 frames in lenght\n",
    "sequence_lenght = 30"
   ]
  },
  {
   "cell_type": "code",
   "execution_count": 9,
   "metadata": {},
   "outputs": [],
   "source": [
    "# Create folders\n",
    "for action in actions:\n",
    "    for sequence in range (no_sequences):\n",
    "        try:\n",
    "            os.makedirs(os.path.join(DATA_PATH, action, str(sequence)))\n",
    "        except:\n",
    "            pass"
   ]
  },
  {
   "cell_type": "markdown",
   "metadata": {},
   "source": [
    "#### 5. Collect Keypoint Values for Training and Testing"
   ]
  },
  {
   "cell_type": "code",
   "execution_count": 11,
   "metadata": {},
   "outputs": [],
   "source": [
    "cap = cv2.VideoCapture(0)\n",
    "# Set mediapipe model\n",
    "with mp_holistic.Holistic(min_detection_confidence=0.5, min_tracking_confidence=0.5) as holistic :\n",
    "\n",
    "    # Loop throught actions\n",
    "    for action in actions :\n",
    "        # Loop throught sequence\n",
    "        for sequence in range(no_sequences):\n",
    "            # Loop throught video lenght \n",
    "            for frame_num in range(sequence_lenght):\n",
    "\n",
    "                # Read feed \n",
    "                ret, frame = cap.read()\n",
    "\n",
    "                # Make prediction\n",
    "                image, results = mediapipe_detection(frame, holistic)\n",
    "\n",
    "                # Draw landmarks\n",
    "                draw_landmarks(image, results)\n",
    "\n",
    "                # Apply collection logic\n",
    "                if frame_num == 0:\n",
    "                    cv2.putText(image, 'STARTING COLLECTION', (120,200),\n",
    "                                cv2.FONT_HERSHEY_SIMPLEX, 1, (0,255,0), 4, cv2.LINE_AA)\n",
    "                    cv2.putText(image, 'Collecting frames for {} Video Number {}'.format(action, sequence), (15,12),\n",
    "                                cv2.FONT_HERSHEY_SIMPLEX, 0.5, (0,0,255), 1, cv2.LINE_AA)\n",
    "                    cv2.waitKey(2000)\n",
    "                else :\n",
    "                    cv2.putText(image, 'Collecting frames for {} Video Number {}'.format(action, sequence), (15,12),\n",
    "                                cv2.FONT_HERSHEY_SIMPLEX, 0.5, (0,0,255), 1, cv2.LINE_AA)      \n",
    "\n",
    "                keypoints = extract_keypoints(results)\n",
    "                npy_path = os.path.join(DATA_PATH, action, str(sequence), str(frame_num))\n",
    "                np.save(npy_path, keypoints)\n",
    "                            \n",
    "                # Show to screen\n",
    "                cv2.imshow('OpenCV Feed', image)\n",
    "\n",
    "                # Break gracefully\n",
    "                if cv2.waitKey(10) & 0xFF == ord('q'):\n",
    "                    break\n",
    "\n",
    "    cap.release()\n",
    "    cv2.destroyAllWindows()"
   ]
  },
  {
   "cell_type": "markdown",
   "metadata": {},
   "source": [
    "#### 6. Preprocess Data and Create Labels and Features"
   ]
  },
  {
   "cell_type": "code",
   "execution_count": 3,
   "metadata": {},
   "outputs": [],
   "source": [
    "from sklearn.model_selection import train_test_split\n",
    "from tensorflow.keras.utils import to_categorical"
   ]
  },
  {
   "cell_type": "code",
   "execution_count": 4,
   "metadata": {},
   "outputs": [
    {
     "data": {
      "text/plain": [
       "{'hello': 0, 'thanks': 1, 'iloveyou': 2}"
      ]
     },
     "execution_count": 4,
     "metadata": {},
     "output_type": "execute_result"
    }
   ],
   "source": [
    "label_map = {label:num for num, label in enumerate(actions)}\n",
    "label_map"
   ]
  },
  {
   "cell_type": "code",
   "execution_count": 5,
   "metadata": {},
   "outputs": [],
   "source": [
    "sequences, labels = [], []\n",
    "\n",
    "for action in actions:\n",
    "    for sequence in range(no_sequences):\n",
    "        window = []\n",
    "        for frame_num in range(sequence_lenght):\n",
    "            res = np.load(os.path.join(DATA_PATH, action, str(sequence),\"{}.npy\".format(frame_num)))\n",
    "            window.append(res)\n",
    "        sequences.append(window)\n",
    "        labels.append(label_map[action])"
   ]
  },
  {
   "cell_type": "code",
   "execution_count": 7,
   "metadata": {},
   "outputs": [
    {
     "data": {
      "text/plain": [
       "(90, 30, 1662)"
      ]
     },
     "execution_count": 7,
     "metadata": {},
     "output_type": "execute_result"
    }
   ],
   "source": [
    "np.array(sequences).shape"
   ]
  },
  {
   "cell_type": "code",
   "execution_count": 6,
   "metadata": {},
   "outputs": [],
   "source": [
    "X = np.array(sequences)\n",
    "y = to_categorical(labels).astype(int)"
   ]
  },
  {
   "cell_type": "code",
   "execution_count": 7,
   "metadata": {},
   "outputs": [],
   "source": [
    "X_train, X_test, y_train, y_test = train_test_split(X, y, test_size= 0.05)"
   ]
  },
  {
   "cell_type": "code",
   "execution_count": 8,
   "metadata": {},
   "outputs": [
    {
     "name": "stdout",
     "output_type": "stream",
     "text": [
      "\n",
      "X_train shape : (85, 30, 1662)\n",
      "X_test shape  : (5, 30, 1662)\n",
      "y_train shape : (85, 3)\n",
      "y_test shape  : (5, 3) \n",
      "\n"
     ]
    }
   ],
   "source": [
    "print(\n",
    "\"\"\"\n",
    "X_train shape : {}\n",
    "X_test shape  : {}\n",
    "y_train shape : {}\n",
    "y_test shape  : {} \n",
    "\"\"\".format(\n",
    "    X_train.shape,\n",
    "    X_test.shape,\n",
    "    y_train.shape,\n",
    "    y_test.shape\n",
    "))"
   ]
  },
  {
   "cell_type": "markdown",
   "metadata": {},
   "source": [
    "#### 7. Build and Train LSTM Neural Network"
   ]
  },
  {
   "cell_type": "code",
   "execution_count": 9,
   "metadata": {},
   "outputs": [],
   "source": [
    "from tensorflow.keras.models import Sequential\n",
    "from tensorflow.keras.layers import LSTM, Dense\n",
    "from tensorflow.keras.callbacks import TensorBoard"
   ]
  },
  {
   "cell_type": "code",
   "execution_count": 10,
   "metadata": {},
   "outputs": [],
   "source": [
    "log_dir = os.path.join('Logs')\n",
    "tb_callback = TensorBoard(log_dir=log_dir)"
   ]
  },
  {
   "cell_type": "code",
   "execution_count": 11,
   "metadata": {},
   "outputs": [],
   "source": [
    "model = Sequential()\n",
    "model.add(LSTM(64, return_sequences=True, activation='relu', input_shape=(30,1662)))\n",
    "model.add(LSTM(128, return_sequences=True, activation='relu'))\n",
    "model.add(LSTM(64, return_sequences=False, activation='relu'))\n",
    "model.add(Dense(64, activation='relu'))\n",
    "model.add(Dense(32, activation='relu'))\n",
    "model.add(Dense(actions.shape[0], activation='softmax'))\n"
   ]
  },
  {
   "cell_type": "code",
   "execution_count": 12,
   "metadata": {},
   "outputs": [],
   "source": [
    "model.compile(optimizer='Adam', loss='categorical_crossentropy', metrics=['categorical_accuracy'])"
   ]
  },
  {
   "cell_type": "code",
   "execution_count": 13,
   "metadata": {},
   "outputs": [
    {
     "name": "stdout",
     "output_type": "stream",
     "text": [
      "Epoch 1/200\n",
      "3/3 [==============================] - 5s 374ms/step - loss: 1.4542 - categorical_accuracy: 0.3425\n",
      "Epoch 2/200\n",
      "3/3 [==============================] - 0s 98ms/step - loss: 5.2328 - categorical_accuracy: 0.3483\n",
      "Epoch 3/200\n",
      "3/3 [==============================] - 0s 117ms/step - loss: 8.1807 - categorical_accuracy: 0.1840\n",
      "Epoch 4/200\n",
      "3/3 [==============================] - 0s 100ms/step - loss: 1.6530 - categorical_accuracy: 0.2661\n",
      "Epoch 5/200\n",
      "3/3 [==============================] - 0s 107ms/step - loss: 2.0392 - categorical_accuracy: 0.3620\n",
      "Epoch 6/200\n",
      "3/3 [==============================] - 0s 101ms/step - loss: 2.3624 - categorical_accuracy: 0.3699\n",
      "Epoch 7/200\n",
      "3/3 [==============================] - 0s 123ms/step - loss: 1.4528 - categorical_accuracy: 0.3660\n",
      "Epoch 8/200\n",
      "3/3 [==============================] - 0s 132ms/step - loss: 1.2380 - categorical_accuracy: 0.3503\n",
      "Epoch 9/200\n",
      "3/3 [==============================] - 0s 134ms/step - loss: 1.0679 - categorical_accuracy: 0.3953\n",
      "Epoch 10/200\n",
      "3/3 [==============================] - 0s 113ms/step - loss: 1.1581 - categorical_accuracy: 0.4110\n",
      "Epoch 11/200\n",
      "3/3 [==============================] - 0s 143ms/step - loss: 1.0211 - categorical_accuracy: 0.3992\n",
      "Epoch 12/200\n",
      "3/3 [==============================] - 0s 110ms/step - loss: 0.9850 - categorical_accuracy: 0.5342\n",
      "Epoch 13/200\n",
      "3/3 [==============================] - 0s 101ms/step - loss: 0.8621 - categorical_accuracy: 0.5773\n",
      "Epoch 14/200\n",
      "3/3 [==============================] - 0s 148ms/step - loss: 0.7472 - categorical_accuracy: 0.6242\n",
      "Epoch 15/200\n",
      "3/3 [==============================] - 0s 140ms/step - loss: 0.8041 - categorical_accuracy: 0.5910\n",
      "Epoch 16/200\n",
      "3/3 [==============================] - 0s 141ms/step - loss: 0.6011 - categorical_accuracy: 0.7006\n",
      "Epoch 17/200\n",
      "3/3 [==============================] - 1s 224ms/step - loss: 0.6237 - categorical_accuracy: 0.6106\n",
      "Epoch 18/200\n",
      "3/3 [==============================] - 0s 108ms/step - loss: 0.6204 - categorical_accuracy: 0.6614\n",
      "Epoch 19/200\n",
      "3/3 [==============================] - 0s 95ms/step - loss: 0.5844 - categorical_accuracy: 0.7085\n",
      "Epoch 20/200\n",
      "3/3 [==============================] - 0s 91ms/step - loss: 0.6859 - categorical_accuracy: 0.6360\n",
      "Epoch 21/200\n",
      "3/3 [==============================] - 0s 109ms/step - loss: 0.5844 - categorical_accuracy: 0.7222\n",
      "Epoch 22/200\n",
      "3/3 [==============================] - 0s 103ms/step - loss: 0.5657 - categorical_accuracy: 0.7104\n",
      "Epoch 23/200\n",
      "3/3 [==============================] - 0s 102ms/step - loss: 0.5829 - categorical_accuracy: 0.7026\n",
      "Epoch 24/200\n",
      "3/3 [==============================] - 0s 103ms/step - loss: 0.5763 - categorical_accuracy: 0.7064\n",
      "Epoch 25/200\n",
      "3/3 [==============================] - 0s 108ms/step - loss: 0.7236 - categorical_accuracy: 0.6301\n",
      "Epoch 26/200\n",
      "3/3 [==============================] - 0s 102ms/step - loss: 0.7273 - categorical_accuracy: 0.6986\n",
      "Epoch 27/200\n",
      "3/3 [==============================] - 0s 106ms/step - loss: 0.7532 - categorical_accuracy: 0.6244\n",
      "Epoch 28/200\n",
      "3/3 [==============================] - 0s 104ms/step - loss: 0.5651 - categorical_accuracy: 0.7318\n",
      "Epoch 29/200\n",
      "3/3 [==============================] - 0s 112ms/step - loss: 0.5667 - categorical_accuracy: 0.7142\n",
      "Epoch 30/200\n",
      "3/3 [==============================] - 0s 112ms/step - loss: 0.5214 - categorical_accuracy: 0.8043\n",
      "Epoch 31/200\n",
      "3/3 [==============================] - 0s 105ms/step - loss: 0.5815 - categorical_accuracy: 0.6400\n",
      "Epoch 32/200\n",
      "3/3 [==============================] - 0s 99ms/step - loss: 0.4688 - categorical_accuracy: 0.8024\n",
      "Epoch 33/200\n",
      "3/3 [==============================] - 0s 100ms/step - loss: 0.4183 - categorical_accuracy: 0.8376\n",
      "Epoch 34/200\n",
      "3/3 [==============================] - 0s 106ms/step - loss: 0.5125 - categorical_accuracy: 0.7280\n",
      "Epoch 35/200\n",
      "3/3 [==============================] - 0s 100ms/step - loss: 0.5227 - categorical_accuracy: 0.7358\n",
      "Epoch 36/200\n",
      "3/3 [==============================] - 0s 111ms/step - loss: 0.4600 - categorical_accuracy: 0.7436\n",
      "Epoch 37/200\n",
      "3/3 [==============================] - 1s 221ms/step - loss: 0.4986 - categorical_accuracy: 0.6987\n",
      "Epoch 38/200\n",
      "3/3 [==============================] - 0s 121ms/step - loss: 0.3996 - categorical_accuracy: 0.7789\n",
      "Epoch 39/200\n",
      "3/3 [==============================] - 0s 100ms/step - loss: 0.3899 - categorical_accuracy: 0.8199\n",
      "Epoch 40/200\n",
      "3/3 [==============================] - 0s 101ms/step - loss: 0.6139 - categorical_accuracy: 0.6967\n",
      "Epoch 41/200\n",
      "3/3 [==============================] - 0s 98ms/step - loss: 0.4054 - categorical_accuracy: 0.7769\n",
      "Epoch 42/200\n",
      "3/3 [==============================] - 0s 98ms/step - loss: 0.5053 - categorical_accuracy: 0.7848\n",
      "Epoch 43/200\n",
      "3/3 [==============================] - 0s 98ms/step - loss: 0.3790 - categorical_accuracy: 0.8278\n",
      "Epoch 44/200\n",
      "3/3 [==============================] - 0s 93ms/step - loss: 0.3278 - categorical_accuracy: 0.8885\n",
      "Epoch 45/200\n",
      "3/3 [==============================] - 0s 93ms/step - loss: 0.3411 - categorical_accuracy: 0.8474\n",
      "Epoch 46/200\n",
      "3/3 [==============================] - 0s 97ms/step - loss: 0.2650 - categorical_accuracy: 0.9354\n",
      "Epoch 47/200\n",
      "3/3 [==============================] - 0s 102ms/step - loss: 0.2385 - categorical_accuracy: 0.9198\n",
      "Epoch 48/200\n",
      "3/3 [==============================] - 0s 103ms/step - loss: 0.2077 - categorical_accuracy: 0.9491\n",
      "Epoch 49/200\n",
      "3/3 [==============================] - 0s 90ms/step - loss: 0.2373 - categorical_accuracy: 0.9354\n",
      "Epoch 50/200\n",
      "3/3 [==============================] - 0s 96ms/step - loss: 0.6352 - categorical_accuracy: 0.7926\n",
      "Epoch 51/200\n",
      "3/3 [==============================] - 0s 89ms/step - loss: 0.5462 - categorical_accuracy: 0.7789\n",
      "Epoch 52/200\n",
      "3/3 [==============================] - 0s 92ms/step - loss: 0.7574 - categorical_accuracy: 0.7045\n",
      "Epoch 53/200\n",
      "3/3 [==============================] - 0s 86ms/step - loss: 0.5218 - categorical_accuracy: 0.7476\n",
      "Epoch 54/200\n",
      "3/3 [==============================] - 0s 103ms/step - loss: 0.5716 - categorical_accuracy: 0.8043\n",
      "Epoch 55/200\n",
      "3/3 [==============================] - 0s 93ms/step - loss: 0.4706 - categorical_accuracy: 0.7926\n",
      "Epoch 56/200\n",
      "3/3 [==============================] - 0s 89ms/step - loss: 0.3712 - categorical_accuracy: 0.8767\n",
      "Epoch 57/200\n",
      "3/3 [==============================] - 0s 93ms/step - loss: 0.3505 - categorical_accuracy: 0.7828\n",
      "Epoch 58/200\n",
      "3/3 [==============================] - 0s 90ms/step - loss: 0.3583 - categorical_accuracy: 0.9276\n",
      "Epoch 59/200\n",
      "3/3 [==============================] - 0s 91ms/step - loss: 0.2731 - categorical_accuracy: 0.9139\n",
      "Epoch 60/200\n",
      "3/3 [==============================] - 0s 89ms/step - loss: 0.2717 - categorical_accuracy: 0.9393\n",
      "Epoch 61/200\n",
      "3/3 [==============================] - 0s 93ms/step - loss: 0.2362 - categorical_accuracy: 0.9119\n",
      "Epoch 62/200\n",
      "3/3 [==============================] - 0s 103ms/step - loss: 0.2095 - categorical_accuracy: 0.9276\n",
      "Epoch 63/200\n",
      "3/3 [==============================] - 0s 102ms/step - loss: 0.2035 - categorical_accuracy: 0.8963\n",
      "Epoch 64/200\n",
      "3/3 [==============================] - 0s 102ms/step - loss: 0.3949 - categorical_accuracy: 0.8317\n",
      "Epoch 65/200\n",
      "3/3 [==============================] - 0s 94ms/step - loss: 0.2443 - categorical_accuracy: 0.9080\n",
      "Epoch 66/200\n",
      "3/3 [==============================] - 0s 115ms/step - loss: 4.1258 - categorical_accuracy: 0.7573\n",
      "Epoch 67/200\n",
      "3/3 [==============================] - 0s 88ms/step - loss: 3.8141 - categorical_accuracy: 0.3817\n",
      "Epoch 68/200\n",
      "3/3 [==============================] - 0s 89ms/step - loss: 2.2006 - categorical_accuracy: 0.5597\n",
      "Epoch 69/200\n",
      "3/3 [==============================] - 0s 101ms/step - loss: 1.6232 - categorical_accuracy: 0.4697\n",
      "Epoch 70/200\n",
      "3/3 [==============================] - 0s 85ms/step - loss: 1.7092 - categorical_accuracy: 0.4208\n",
      "Epoch 71/200\n",
      "3/3 [==============================] - 0s 98ms/step - loss: 0.9721 - categorical_accuracy: 0.5989\n",
      "Epoch 72/200\n",
      "3/3 [==============================] - 0s 102ms/step - loss: 1.1047 - categorical_accuracy: 0.3523\n",
      "Epoch 73/200\n",
      "3/3 [==============================] - 0s 101ms/step - loss: 1.1135 - categorical_accuracy: 0.3659\n",
      "Epoch 74/200\n",
      "3/3 [==============================] - 0s 95ms/step - loss: 1.0628 - categorical_accuracy: 0.3894\n",
      "Epoch 75/200\n",
      "3/3 [==============================] - 0s 86ms/step - loss: 1.0881 - categorical_accuracy: 0.4383\n",
      "Epoch 76/200\n",
      "3/3 [==============================] - 0s 86ms/step - loss: 1.0978 - categorical_accuracy: 0.3112\n",
      "Epoch 77/200\n",
      "3/3 [==============================] - 0s 98ms/step - loss: 1.0779 - categorical_accuracy: 0.3620\n",
      "Epoch 78/200\n",
      "3/3 [==============================] - 0s 95ms/step - loss: 1.0493 - categorical_accuracy: 0.5421\n",
      "Epoch 79/200\n",
      "3/3 [==============================] - 0s 92ms/step - loss: 0.9754 - categorical_accuracy: 0.5558\n",
      "Epoch 80/200\n",
      "3/3 [==============================] - 0s 97ms/step - loss: 0.8643 - categorical_accuracy: 0.4913\n",
      "Epoch 81/200\n",
      "3/3 [==============================] - 0s 157ms/step - loss: 0.7168 - categorical_accuracy: 0.6047\n",
      "Epoch 82/200\n",
      "3/3 [==============================] - 1s 242ms/step - loss: 0.7322 - categorical_accuracy: 0.6360\n",
      "Epoch 83/200\n",
      "3/3 [==============================] - 2s 462ms/step - loss: 0.6630 - categorical_accuracy: 0.6771\n",
      "Epoch 84/200\n",
      "3/3 [==============================] - 1s 248ms/step - loss: 0.7206 - categorical_accuracy: 0.6419\n",
      "Epoch 85/200\n",
      "3/3 [==============================] - 1s 346ms/step - loss: 0.6254 - categorical_accuracy: 0.6360\n",
      "Epoch 86/200\n",
      "3/3 [==============================] - 1s 266ms/step - loss: 0.6025 - categorical_accuracy: 0.6731\n",
      "Epoch 87/200\n",
      "3/3 [==============================] - 1s 458ms/step - loss: 0.6628 - categorical_accuracy: 0.6517\n",
      "Epoch 88/200\n",
      "3/3 [==============================] - 1s 355ms/step - loss: 0.5834 - categorical_accuracy: 0.7084\n",
      "Epoch 89/200\n",
      "3/3 [==============================] - 1s 268ms/step - loss: 0.8323 - categorical_accuracy: 0.5695\n",
      "Epoch 90/200\n",
      "3/3 [==============================] - 1s 225ms/step - loss: 0.5919 - categorical_accuracy: 0.6223\n",
      "Epoch 91/200\n",
      "3/3 [==============================] - 0s 163ms/step - loss: 0.5947 - categorical_accuracy: 0.6517\n",
      "Epoch 92/200\n",
      "3/3 [==============================] - 1s 168ms/step - loss: 0.6054 - categorical_accuracy: 0.6849\n",
      "Epoch 93/200\n",
      "3/3 [==============================] - 1s 184ms/step - loss: 0.5632 - categorical_accuracy: 0.7749\n",
      "Epoch 94/200\n",
      "3/3 [==============================] - 1s 173ms/step - loss: 0.5398 - categorical_accuracy: 0.6927\n",
      "Epoch 95/200\n",
      "3/3 [==============================] - 0s 149ms/step - loss: 0.6513 - categorical_accuracy: 0.6829\n",
      "Epoch 96/200\n",
      "3/3 [==============================] - 1s 185ms/step - loss: 0.7051 - categorical_accuracy: 0.5910\n",
      "Epoch 97/200\n",
      "3/3 [==============================] - 1s 158ms/step - loss: 0.6655 - categorical_accuracy: 0.7084\n",
      "Epoch 98/200\n",
      "3/3 [==============================] - 1s 178ms/step - loss: 0.6478 - categorical_accuracy: 0.6418\n",
      "Epoch 99/200\n",
      "3/3 [==============================] - 0s 98ms/step - loss: 0.6654 - categorical_accuracy: 0.5284\n",
      "Epoch 100/200\n",
      "3/3 [==============================] - 0s 92ms/step - loss: 0.6775 - categorical_accuracy: 0.8063\n",
      "Epoch 101/200\n",
      "3/3 [==============================] - 0s 94ms/step - loss: 0.6856 - categorical_accuracy: 0.6948\n",
      "Epoch 102/200\n",
      "3/3 [==============================] - 0s 82ms/step - loss: 0.6006 - categorical_accuracy: 0.6751\n",
      "Epoch 103/200\n",
      "3/3 [==============================] - 0s 84ms/step - loss: 0.5891 - categorical_accuracy: 0.6653\n",
      "Epoch 104/200\n",
      "3/3 [==============================] - 0s 83ms/step - loss: 0.5968 - categorical_accuracy: 0.6478\n",
      "Epoch 105/200\n",
      "3/3 [==============================] - 0s 85ms/step - loss: 0.5360 - categorical_accuracy: 0.6712\n",
      "Epoch 106/200\n",
      "3/3 [==============================] - 0s 83ms/step - loss: 0.4637 - categorical_accuracy: 0.7104\n",
      "Epoch 107/200\n",
      "3/3 [==============================] - 0s 82ms/step - loss: 0.4695 - categorical_accuracy: 0.7808\n",
      "Epoch 108/200\n",
      "3/3 [==============================] - 0s 82ms/step - loss: 0.5357 - categorical_accuracy: 0.6927\n",
      "Epoch 109/200\n",
      "3/3 [==============================] - 0s 93ms/step - loss: 0.6548 - categorical_accuracy: 0.6497\n",
      "Epoch 110/200\n",
      "3/3 [==============================] - 0s 83ms/step - loss: 0.5771 - categorical_accuracy: 0.7651\n",
      "Epoch 111/200\n",
      "3/3 [==============================] - 0s 83ms/step - loss: 0.4562 - categorical_accuracy: 0.8160\n",
      "Epoch 112/200\n",
      "3/3 [==============================] - 0s 83ms/step - loss: 0.5809 - categorical_accuracy: 0.7065\n",
      "Epoch 113/200\n",
      "3/3 [==============================] - 0s 85ms/step - loss: 0.4967 - categorical_accuracy: 0.7045\n",
      "Epoch 114/200\n",
      "3/3 [==============================] - 0s 84ms/step - loss: 0.5595 - categorical_accuracy: 0.6654\n",
      "Epoch 115/200\n",
      "3/3 [==============================] - 0s 87ms/step - loss: 0.5159 - categorical_accuracy: 0.8591\n",
      "Epoch 116/200\n",
      "3/3 [==============================] - 0s 87ms/step - loss: 0.5238 - categorical_accuracy: 0.7671\n",
      "Epoch 117/200\n",
      "3/3 [==============================] - 0s 85ms/step - loss: 0.4330 - categorical_accuracy: 0.8258\n",
      "Epoch 118/200\n",
      "3/3 [==============================] - 0s 84ms/step - loss: 0.4223 - categorical_accuracy: 0.9256\n",
      "Epoch 119/200\n",
      "3/3 [==============================] - 0s 87ms/step - loss: 0.4993 - categorical_accuracy: 0.7163\n",
      "Epoch 120/200\n",
      "3/3 [==============================] - 0s 82ms/step - loss: 0.4249 - categorical_accuracy: 0.8708\n",
      "Epoch 121/200\n",
      "3/3 [==============================] - 0s 85ms/step - loss: 0.3965 - categorical_accuracy: 0.8395\n",
      "Epoch 122/200\n",
      "3/3 [==============================] - 0s 87ms/step - loss: 0.3820 - categorical_accuracy: 0.8395\n",
      "Epoch 123/200\n",
      "3/3 [==============================] - 0s 83ms/step - loss: 0.3618 - categorical_accuracy: 0.8337\n",
      "Epoch 124/200\n",
      "3/3 [==============================] - 0s 87ms/step - loss: 0.4410 - categorical_accuracy: 0.7808\n",
      "Epoch 125/200\n",
      "3/3 [==============================] - 0s 88ms/step - loss: 0.3912 - categorical_accuracy: 0.8004\n",
      "Epoch 126/200\n",
      "3/3 [==============================] - 0s 82ms/step - loss: 0.3721 - categorical_accuracy: 0.8455\n",
      "Epoch 127/200\n",
      "3/3 [==============================] - 0s 83ms/step - loss: 0.3447 - categorical_accuracy: 0.8767\n",
      "Epoch 128/200\n",
      "3/3 [==============================] - 0s 83ms/step - loss: 0.4984 - categorical_accuracy: 0.7632\n",
      "Epoch 129/200\n",
      "3/3 [==============================] - 0s 83ms/step - loss: 0.2897 - categorical_accuracy: 0.9217\n",
      "Epoch 130/200\n",
      "3/3 [==============================] - 0s 99ms/step - loss: 0.2105 - categorical_accuracy: 0.9237\n",
      "Epoch 131/200\n",
      "3/3 [==============================] - 0s 87ms/step - loss: 0.2976 - categorical_accuracy: 0.8533\n",
      "Epoch 132/200\n",
      "3/3 [==============================] - 0s 84ms/step - loss: 0.2849 - categorical_accuracy: 0.8806\n",
      "Epoch 133/200\n",
      "3/3 [==============================] - 0s 86ms/step - loss: 0.5109 - categorical_accuracy: 0.7828\n",
      "Epoch 134/200\n",
      "3/3 [==============================] - 0s 80ms/step - loss: 0.2357 - categorical_accuracy: 0.9021\n",
      "Epoch 135/200\n",
      "3/3 [==============================] - 0s 82ms/step - loss: 0.2994 - categorical_accuracy: 0.8239\n",
      "Epoch 136/200\n",
      "3/3 [==============================] - 0s 85ms/step - loss: 0.2028 - categorical_accuracy: 0.9197\n",
      "Epoch 137/200\n",
      "3/3 [==============================] - 0s 87ms/step - loss: 0.2238 - categorical_accuracy: 0.9335\n",
      "Epoch 138/200\n",
      "3/3 [==============================] - 0s 86ms/step - loss: 0.2011 - categorical_accuracy: 0.9295\n",
      "Epoch 139/200\n",
      "3/3 [==============================] - 0s 85ms/step - loss: 0.1557 - categorical_accuracy: 0.9491\n",
      "Epoch 140/200\n",
      "3/3 [==============================] - 0s 82ms/step - loss: 0.1391 - categorical_accuracy: 0.9589\n",
      "Epoch 141/200\n",
      "3/3 [==============================] - 0s 85ms/step - loss: 0.1549 - categorical_accuracy: 0.9491\n",
      "Epoch 142/200\n",
      "3/3 [==============================] - 0s 83ms/step - loss: 0.1339 - categorical_accuracy: 0.9628\n",
      "Epoch 143/200\n",
      "3/3 [==============================] - 0s 82ms/step - loss: 0.0896 - categorical_accuracy: 0.9784\n",
      "Epoch 144/200\n",
      "3/3 [==============================] - 0s 83ms/step - loss: 0.1428 - categorical_accuracy: 0.9452\n",
      "Epoch 145/200\n",
      "3/3 [==============================] - 0s 83ms/step - loss: 0.1875 - categorical_accuracy: 0.9158\n",
      "Epoch 146/200\n",
      "3/3 [==============================] - 0s 86ms/step - loss: 0.2479 - categorical_accuracy: 0.8943\n",
      "Epoch 147/200\n",
      "3/3 [==============================] - 0s 81ms/step - loss: 1.2617 - categorical_accuracy: 0.7006\n",
      "Epoch 148/200\n",
      "3/3 [==============================] - 0s 85ms/step - loss: 0.4637 - categorical_accuracy: 0.8159\n",
      "Epoch 149/200\n",
      "3/3 [==============================] - 0s 81ms/step - loss: 0.3793 - categorical_accuracy: 0.8668\n",
      "Epoch 150/200\n",
      "3/3 [==============================] - 0s 94ms/step - loss: 0.3132 - categorical_accuracy: 0.9119\n",
      "Epoch 151/200\n",
      "3/3 [==============================] - 0s 99ms/step - loss: 0.3934 - categorical_accuracy: 0.9061\n",
      "Epoch 152/200\n",
      "3/3 [==============================] - 0s 85ms/step - loss: 0.4132 - categorical_accuracy: 0.7906\n",
      "Epoch 153/200\n",
      "3/3 [==============================] - 0s 97ms/step - loss: 0.3296 - categorical_accuracy: 0.9060\n",
      "Epoch 154/200\n",
      "3/3 [==============================] - 0s 92ms/step - loss: 0.3137 - categorical_accuracy: 0.9452\n",
      "Epoch 155/200\n",
      "3/3 [==============================] - 0s 86ms/step - loss: 0.2495 - categorical_accuracy: 0.9354\n",
      "Epoch 156/200\n",
      "3/3 [==============================] - 0s 82ms/step - loss: 0.2985 - categorical_accuracy: 0.9354\n",
      "Epoch 157/200\n",
      "3/3 [==============================] - 0s 108ms/step - loss: 0.2284 - categorical_accuracy: 0.9315\n",
      "Epoch 158/200\n",
      "3/3 [==============================] - 0s 89ms/step - loss: 0.1653 - categorical_accuracy: 0.9354\n",
      "Epoch 159/200\n",
      "3/3 [==============================] - 0s 83ms/step - loss: 0.1933 - categorical_accuracy: 0.9491\n",
      "Epoch 160/200\n",
      "3/3 [==============================] - 0s 81ms/step - loss: 0.1505 - categorical_accuracy: 0.9432\n",
      "Epoch 161/200\n",
      "3/3 [==============================] - 0s 81ms/step - loss: 0.1824 - categorical_accuracy: 0.9374\n",
      "Epoch 162/200\n",
      "3/3 [==============================] - 0s 83ms/step - loss: 0.1384 - categorical_accuracy: 0.9628\n",
      "Epoch 163/200\n",
      "3/3 [==============================] - 0s 87ms/step - loss: 0.1212 - categorical_accuracy: 0.9667\n",
      "Epoch 164/200\n",
      "3/3 [==============================] - 0s 90ms/step - loss: 0.0976 - categorical_accuracy: 0.9745\n",
      "Epoch 165/200\n",
      "3/3 [==============================] - 0s 80ms/step - loss: 0.1021 - categorical_accuracy: 0.9745\n",
      "Epoch 166/200\n",
      "2/3 [===================>..........] - ETA: 0s - loss: 0.1585 - categorical_accuracy: 0.9531"
     ]
    },
    {
     "ename": "KeyboardInterrupt",
     "evalue": "",
     "output_type": "error",
     "traceback": [
      "\u001b[1;31m---------------------------------------------------------------------------\u001b[0m",
      "\u001b[1;31mKeyboardInterrupt\u001b[0m                         Traceback (most recent call last)",
      "Cell \u001b[1;32mIn[13], line 1\u001b[0m\n\u001b[1;32m----> 1\u001b[0m \u001b[43mmodel\u001b[49m\u001b[38;5;241;43m.\u001b[39;49m\u001b[43mfit\u001b[49m\u001b[43m(\u001b[49m\u001b[43mX_train\u001b[49m\u001b[43m,\u001b[49m\u001b[43m \u001b[49m\u001b[43my_train\u001b[49m\u001b[43m,\u001b[49m\u001b[43m \u001b[49m\u001b[43mepochs\u001b[49m\u001b[38;5;241;43m=\u001b[39;49m\u001b[38;5;241;43m200\u001b[39;49m\u001b[43m,\u001b[49m\u001b[43m \u001b[49m\u001b[43mcallbacks\u001b[49m\u001b[38;5;241;43m=\u001b[39;49m\u001b[43m[\u001b[49m\u001b[43mtb_callback\u001b[49m\u001b[43m]\u001b[49m\u001b[43m)\u001b[49m\n",
      "File \u001b[1;32mc:\\Users\\astie\\anaconda3\\envs\\sign\\lib\\site-packages\\tensorflow\\python\\keras\\engine\\training.py:1100\u001b[0m, in \u001b[0;36mModel.fit\u001b[1;34m(self, x, y, batch_size, epochs, verbose, callbacks, validation_split, validation_data, shuffle, class_weight, sample_weight, initial_epoch, steps_per_epoch, validation_steps, validation_batch_size, validation_freq, max_queue_size, workers, use_multiprocessing)\u001b[0m\n\u001b[0;32m   1093\u001b[0m \u001b[38;5;28;01mwith\u001b[39;00m trace\u001b[38;5;241m.\u001b[39mTrace(\n\u001b[0;32m   1094\u001b[0m     \u001b[38;5;124m'\u001b[39m\u001b[38;5;124mtrain\u001b[39m\u001b[38;5;124m'\u001b[39m,\n\u001b[0;32m   1095\u001b[0m     epoch_num\u001b[38;5;241m=\u001b[39mepoch,\n\u001b[0;32m   1096\u001b[0m     step_num\u001b[38;5;241m=\u001b[39mstep,\n\u001b[0;32m   1097\u001b[0m     batch_size\u001b[38;5;241m=\u001b[39mbatch_size,\n\u001b[0;32m   1098\u001b[0m     _r\u001b[38;5;241m=\u001b[39m\u001b[38;5;241m1\u001b[39m):\n\u001b[0;32m   1099\u001b[0m   callbacks\u001b[38;5;241m.\u001b[39mon_train_batch_begin(step)\n\u001b[1;32m-> 1100\u001b[0m   tmp_logs \u001b[38;5;241m=\u001b[39m \u001b[38;5;28;43mself\u001b[39;49m\u001b[38;5;241;43m.\u001b[39;49m\u001b[43mtrain_function\u001b[49m\u001b[43m(\u001b[49m\u001b[43miterator\u001b[49m\u001b[43m)\u001b[49m\n\u001b[0;32m   1101\u001b[0m   \u001b[38;5;28;01mif\u001b[39;00m data_handler\u001b[38;5;241m.\u001b[39mshould_sync:\n\u001b[0;32m   1102\u001b[0m     context\u001b[38;5;241m.\u001b[39masync_wait()\n",
      "File \u001b[1;32mc:\\Users\\astie\\anaconda3\\envs\\sign\\lib\\site-packages\\tensorflow\\python\\eager\\def_function.py:828\u001b[0m, in \u001b[0;36mFunction.__call__\u001b[1;34m(self, *args, **kwds)\u001b[0m\n\u001b[0;32m    826\u001b[0m tracing_count \u001b[38;5;241m=\u001b[39m \u001b[38;5;28mself\u001b[39m\u001b[38;5;241m.\u001b[39mexperimental_get_tracing_count()\n\u001b[0;32m    827\u001b[0m \u001b[38;5;28;01mwith\u001b[39;00m trace\u001b[38;5;241m.\u001b[39mTrace(\u001b[38;5;28mself\u001b[39m\u001b[38;5;241m.\u001b[39m_name) \u001b[38;5;28;01mas\u001b[39;00m tm:\n\u001b[1;32m--> 828\u001b[0m   result \u001b[38;5;241m=\u001b[39m \u001b[38;5;28;43mself\u001b[39;49m\u001b[38;5;241;43m.\u001b[39;49m\u001b[43m_call\u001b[49m\u001b[43m(\u001b[49m\u001b[38;5;241;43m*\u001b[39;49m\u001b[43margs\u001b[49m\u001b[43m,\u001b[49m\u001b[43m \u001b[49m\u001b[38;5;241;43m*\u001b[39;49m\u001b[38;5;241;43m*\u001b[39;49m\u001b[43mkwds\u001b[49m\u001b[43m)\u001b[49m\n\u001b[0;32m    829\u001b[0m   compiler \u001b[38;5;241m=\u001b[39m \u001b[38;5;124m\"\u001b[39m\u001b[38;5;124mxla\u001b[39m\u001b[38;5;124m\"\u001b[39m \u001b[38;5;28;01mif\u001b[39;00m \u001b[38;5;28mself\u001b[39m\u001b[38;5;241m.\u001b[39m_experimental_compile \u001b[38;5;28;01melse\u001b[39;00m \u001b[38;5;124m\"\u001b[39m\u001b[38;5;124mnonXla\u001b[39m\u001b[38;5;124m\"\u001b[39m\n\u001b[0;32m    830\u001b[0m   new_tracing_count \u001b[38;5;241m=\u001b[39m \u001b[38;5;28mself\u001b[39m\u001b[38;5;241m.\u001b[39mexperimental_get_tracing_count()\n",
      "File \u001b[1;32mc:\\Users\\astie\\anaconda3\\envs\\sign\\lib\\site-packages\\tensorflow\\python\\eager\\def_function.py:855\u001b[0m, in \u001b[0;36mFunction._call\u001b[1;34m(self, *args, **kwds)\u001b[0m\n\u001b[0;32m    852\u001b[0m   \u001b[38;5;28mself\u001b[39m\u001b[38;5;241m.\u001b[39m_lock\u001b[38;5;241m.\u001b[39mrelease()\n\u001b[0;32m    853\u001b[0m   \u001b[38;5;66;03m# In this case we have created variables on the first call, so we run the\u001b[39;00m\n\u001b[0;32m    854\u001b[0m   \u001b[38;5;66;03m# defunned version which is guaranteed to never create variables.\u001b[39;00m\n\u001b[1;32m--> 855\u001b[0m   \u001b[38;5;28;01mreturn\u001b[39;00m \u001b[38;5;28;43mself\u001b[39;49m\u001b[38;5;241;43m.\u001b[39;49m\u001b[43m_stateless_fn\u001b[49m\u001b[43m(\u001b[49m\u001b[38;5;241;43m*\u001b[39;49m\u001b[43margs\u001b[49m\u001b[43m,\u001b[49m\u001b[43m \u001b[49m\u001b[38;5;241;43m*\u001b[39;49m\u001b[38;5;241;43m*\u001b[39;49m\u001b[43mkwds\u001b[49m\u001b[43m)\u001b[49m  \u001b[38;5;66;03m# pylint: disable=not-callable\u001b[39;00m\n\u001b[0;32m    856\u001b[0m \u001b[38;5;28;01melif\u001b[39;00m \u001b[38;5;28mself\u001b[39m\u001b[38;5;241m.\u001b[39m_stateful_fn \u001b[38;5;129;01mis\u001b[39;00m \u001b[38;5;129;01mnot\u001b[39;00m \u001b[38;5;28;01mNone\u001b[39;00m:\n\u001b[0;32m    857\u001b[0m   \u001b[38;5;66;03m# Release the lock early so that multiple threads can perform the call\u001b[39;00m\n\u001b[0;32m    858\u001b[0m   \u001b[38;5;66;03m# in parallel.\u001b[39;00m\n\u001b[0;32m    859\u001b[0m   \u001b[38;5;28mself\u001b[39m\u001b[38;5;241m.\u001b[39m_lock\u001b[38;5;241m.\u001b[39mrelease()\n",
      "File \u001b[1;32mc:\\Users\\astie\\anaconda3\\envs\\sign\\lib\\site-packages\\tensorflow\\python\\eager\\function.py:2942\u001b[0m, in \u001b[0;36mFunction.__call__\u001b[1;34m(self, *args, **kwargs)\u001b[0m\n\u001b[0;32m   2939\u001b[0m \u001b[38;5;28;01mwith\u001b[39;00m \u001b[38;5;28mself\u001b[39m\u001b[38;5;241m.\u001b[39m_lock:\n\u001b[0;32m   2940\u001b[0m   (graph_function,\n\u001b[0;32m   2941\u001b[0m    filtered_flat_args) \u001b[38;5;241m=\u001b[39m \u001b[38;5;28mself\u001b[39m\u001b[38;5;241m.\u001b[39m_maybe_define_function(args, kwargs)\n\u001b[1;32m-> 2942\u001b[0m \u001b[38;5;28;01mreturn\u001b[39;00m \u001b[43mgraph_function\u001b[49m\u001b[38;5;241;43m.\u001b[39;49m\u001b[43m_call_flat\u001b[49m\u001b[43m(\u001b[49m\n\u001b[0;32m   2943\u001b[0m \u001b[43m    \u001b[49m\u001b[43mfiltered_flat_args\u001b[49m\u001b[43m,\u001b[49m\u001b[43m \u001b[49m\u001b[43mcaptured_inputs\u001b[49m\u001b[38;5;241;43m=\u001b[39;49m\u001b[43mgraph_function\u001b[49m\u001b[38;5;241;43m.\u001b[39;49m\u001b[43mcaptured_inputs\u001b[49m\u001b[43m)\u001b[49m\n",
      "File \u001b[1;32mc:\\Users\\astie\\anaconda3\\envs\\sign\\lib\\site-packages\\tensorflow\\python\\eager\\function.py:1918\u001b[0m, in \u001b[0;36mConcreteFunction._call_flat\u001b[1;34m(self, args, captured_inputs, cancellation_manager)\u001b[0m\n\u001b[0;32m   1914\u001b[0m possible_gradient_type \u001b[38;5;241m=\u001b[39m gradients_util\u001b[38;5;241m.\u001b[39mPossibleTapeGradientTypes(args)\n\u001b[0;32m   1915\u001b[0m \u001b[38;5;28;01mif\u001b[39;00m (possible_gradient_type \u001b[38;5;241m==\u001b[39m gradients_util\u001b[38;5;241m.\u001b[39mPOSSIBLE_GRADIENT_TYPES_NONE\n\u001b[0;32m   1916\u001b[0m     \u001b[38;5;129;01mand\u001b[39;00m executing_eagerly):\n\u001b[0;32m   1917\u001b[0m   \u001b[38;5;66;03m# No tape is watching; skip to running the function.\u001b[39;00m\n\u001b[1;32m-> 1918\u001b[0m   \u001b[38;5;28;01mreturn\u001b[39;00m \u001b[38;5;28mself\u001b[39m\u001b[38;5;241m.\u001b[39m_build_call_outputs(\u001b[38;5;28;43mself\u001b[39;49m\u001b[38;5;241;43m.\u001b[39;49m\u001b[43m_inference_function\u001b[49m\u001b[38;5;241;43m.\u001b[39;49m\u001b[43mcall\u001b[49m\u001b[43m(\u001b[49m\n\u001b[0;32m   1919\u001b[0m \u001b[43m      \u001b[49m\u001b[43mctx\u001b[49m\u001b[43m,\u001b[49m\u001b[43m \u001b[49m\u001b[43margs\u001b[49m\u001b[43m,\u001b[49m\u001b[43m \u001b[49m\u001b[43mcancellation_manager\u001b[49m\u001b[38;5;241;43m=\u001b[39;49m\u001b[43mcancellation_manager\u001b[49m\u001b[43m)\u001b[49m)\n\u001b[0;32m   1920\u001b[0m forward_backward \u001b[38;5;241m=\u001b[39m \u001b[38;5;28mself\u001b[39m\u001b[38;5;241m.\u001b[39m_select_forward_and_backward_functions(\n\u001b[0;32m   1921\u001b[0m     args,\n\u001b[0;32m   1922\u001b[0m     possible_gradient_type,\n\u001b[0;32m   1923\u001b[0m     executing_eagerly)\n\u001b[0;32m   1924\u001b[0m forward_function, args_with_tangents \u001b[38;5;241m=\u001b[39m forward_backward\u001b[38;5;241m.\u001b[39mforward()\n",
      "File \u001b[1;32mc:\\Users\\astie\\anaconda3\\envs\\sign\\lib\\site-packages\\tensorflow\\python\\eager\\function.py:555\u001b[0m, in \u001b[0;36m_EagerDefinedFunction.call\u001b[1;34m(self, ctx, args, cancellation_manager)\u001b[0m\n\u001b[0;32m    553\u001b[0m \u001b[38;5;28;01mwith\u001b[39;00m _InterpolateFunctionError(\u001b[38;5;28mself\u001b[39m):\n\u001b[0;32m    554\u001b[0m   \u001b[38;5;28;01mif\u001b[39;00m cancellation_manager \u001b[38;5;129;01mis\u001b[39;00m \u001b[38;5;28;01mNone\u001b[39;00m:\n\u001b[1;32m--> 555\u001b[0m     outputs \u001b[38;5;241m=\u001b[39m \u001b[43mexecute\u001b[49m\u001b[38;5;241;43m.\u001b[39;49m\u001b[43mexecute\u001b[49m\u001b[43m(\u001b[49m\n\u001b[0;32m    556\u001b[0m \u001b[43m        \u001b[49m\u001b[38;5;28;43mstr\u001b[39;49m\u001b[43m(\u001b[49m\u001b[38;5;28;43mself\u001b[39;49m\u001b[38;5;241;43m.\u001b[39;49m\u001b[43msignature\u001b[49m\u001b[38;5;241;43m.\u001b[39;49m\u001b[43mname\u001b[49m\u001b[43m)\u001b[49m\u001b[43m,\u001b[49m\n\u001b[0;32m    557\u001b[0m \u001b[43m        \u001b[49m\u001b[43mnum_outputs\u001b[49m\u001b[38;5;241;43m=\u001b[39;49m\u001b[38;5;28;43mself\u001b[39;49m\u001b[38;5;241;43m.\u001b[39;49m\u001b[43m_num_outputs\u001b[49m\u001b[43m,\u001b[49m\n\u001b[0;32m    558\u001b[0m \u001b[43m        \u001b[49m\u001b[43minputs\u001b[49m\u001b[38;5;241;43m=\u001b[39;49m\u001b[43margs\u001b[49m\u001b[43m,\u001b[49m\n\u001b[0;32m    559\u001b[0m \u001b[43m        \u001b[49m\u001b[43mattrs\u001b[49m\u001b[38;5;241;43m=\u001b[39;49m\u001b[43mattrs\u001b[49m\u001b[43m,\u001b[49m\n\u001b[0;32m    560\u001b[0m \u001b[43m        \u001b[49m\u001b[43mctx\u001b[49m\u001b[38;5;241;43m=\u001b[39;49m\u001b[43mctx\u001b[49m\u001b[43m)\u001b[49m\n\u001b[0;32m    561\u001b[0m   \u001b[38;5;28;01melse\u001b[39;00m:\n\u001b[0;32m    562\u001b[0m     outputs \u001b[38;5;241m=\u001b[39m execute\u001b[38;5;241m.\u001b[39mexecute_with_cancellation(\n\u001b[0;32m    563\u001b[0m         \u001b[38;5;28mstr\u001b[39m(\u001b[38;5;28mself\u001b[39m\u001b[38;5;241m.\u001b[39msignature\u001b[38;5;241m.\u001b[39mname),\n\u001b[0;32m    564\u001b[0m         num_outputs\u001b[38;5;241m=\u001b[39m\u001b[38;5;28mself\u001b[39m\u001b[38;5;241m.\u001b[39m_num_outputs,\n\u001b[1;32m   (...)\u001b[0m\n\u001b[0;32m    567\u001b[0m         ctx\u001b[38;5;241m=\u001b[39mctx,\n\u001b[0;32m    568\u001b[0m         cancellation_manager\u001b[38;5;241m=\u001b[39mcancellation_manager)\n",
      "File \u001b[1;32mc:\\Users\\astie\\anaconda3\\envs\\sign\\lib\\site-packages\\tensorflow\\python\\eager\\execute.py:59\u001b[0m, in \u001b[0;36mquick_execute\u001b[1;34m(op_name, num_outputs, inputs, attrs, ctx, name)\u001b[0m\n\u001b[0;32m     57\u001b[0m \u001b[38;5;28;01mtry\u001b[39;00m:\n\u001b[0;32m     58\u001b[0m   ctx\u001b[38;5;241m.\u001b[39mensure_initialized()\n\u001b[1;32m---> 59\u001b[0m   tensors \u001b[38;5;241m=\u001b[39m \u001b[43mpywrap_tfe\u001b[49m\u001b[38;5;241;43m.\u001b[39;49m\u001b[43mTFE_Py_Execute\u001b[49m\u001b[43m(\u001b[49m\u001b[43mctx\u001b[49m\u001b[38;5;241;43m.\u001b[39;49m\u001b[43m_handle\u001b[49m\u001b[43m,\u001b[49m\u001b[43m \u001b[49m\u001b[43mdevice_name\u001b[49m\u001b[43m,\u001b[49m\u001b[43m \u001b[49m\u001b[43mop_name\u001b[49m\u001b[43m,\u001b[49m\n\u001b[0;32m     60\u001b[0m \u001b[43m                                      \u001b[49m\u001b[43minputs\u001b[49m\u001b[43m,\u001b[49m\u001b[43m \u001b[49m\u001b[43mattrs\u001b[49m\u001b[43m,\u001b[49m\u001b[43m \u001b[49m\u001b[43mnum_outputs\u001b[49m\u001b[43m)\u001b[49m\n\u001b[0;32m     61\u001b[0m \u001b[38;5;28;01mexcept\u001b[39;00m core\u001b[38;5;241m.\u001b[39m_NotOkStatusException \u001b[38;5;28;01mas\u001b[39;00m e:\n\u001b[0;32m     62\u001b[0m   \u001b[38;5;28;01mif\u001b[39;00m name \u001b[38;5;129;01mis\u001b[39;00m \u001b[38;5;129;01mnot\u001b[39;00m \u001b[38;5;28;01mNone\u001b[39;00m:\n",
      "\u001b[1;31mKeyboardInterrupt\u001b[0m: "
     ]
    }
   ],
   "source": [
    "model.fit(X_train, y_train, epochs=200, callbacks=[tb_callback])"
   ]
  },
  {
   "cell_type": "code",
   "execution_count": 15,
   "metadata": {},
   "outputs": [
    {
     "name": "stdout",
     "output_type": "stream",
     "text": [
      "Model: \"sequential\"\n",
      "_________________________________________________________________\n",
      "Layer (type)                 Output Shape              Param #   \n",
      "=================================================================\n",
      "lstm (LSTM)                  (None, 30, 64)            442112    \n",
      "_________________________________________________________________\n",
      "lstm_1 (LSTM)                (None, 30, 128)           98816     \n",
      "_________________________________________________________________\n",
      "lstm_2 (LSTM)                (None, 64)                49408     \n",
      "_________________________________________________________________\n",
      "dense (Dense)                (None, 64)                4160      \n",
      "_________________________________________________________________\n",
      "dense_1 (Dense)              (None, 32)                2080      \n",
      "_________________________________________________________________\n",
      "dense_2 (Dense)              (None, 3)                 99        \n",
      "=================================================================\n",
      "Total params: 596,675\n",
      "Trainable params: 596,675\n",
      "Non-trainable params: 0\n",
      "_________________________________________________________________\n"
     ]
    }
   ],
   "source": [
    "model.summary()"
   ]
  },
  {
   "cell_type": "markdown",
   "metadata": {},
   "source": [
    "#### 8. Make Predictions"
   ]
  },
  {
   "cell_type": "code",
   "execution_count": 18,
   "metadata": {},
   "outputs": [
    {
     "data": {
      "text/plain": [
       "array([1.4453892e-02, 6.1952851e-05, 9.8548418e-01], dtype=float32)"
      ]
     },
     "execution_count": 18,
     "metadata": {},
     "output_type": "execute_result"
    }
   ],
   "source": [
    "res = model.predict(X_test)"
   ]
  },
  {
   "cell_type": "code",
   "execution_count": 25,
   "metadata": {},
   "outputs": [
    {
     "data": {
      "text/plain": [
       "'iloveyou'"
      ]
     },
     "execution_count": 25,
     "metadata": {},
     "output_type": "execute_result"
    }
   ],
   "source": [
    "actions[np.argmax(res[3])]"
   ]
  },
  {
   "cell_type": "code",
   "execution_count": 26,
   "metadata": {},
   "outputs": [
    {
     "data": {
      "text/plain": [
       "'iloveyou'"
      ]
     },
     "execution_count": 26,
     "metadata": {},
     "output_type": "execute_result"
    }
   ],
   "source": [
    "actions[np.argmax(y_test[3])]"
   ]
  },
  {
   "cell_type": "markdown",
   "metadata": {},
   "source": [
    "#### 9. Save Weights"
   ]
  },
  {
   "cell_type": "code",
   "execution_count": 27,
   "metadata": {},
   "outputs": [],
   "source": [
    "model.save('action.h5')\n",
    "\n",
    "# model.load_weights('actions.h5')"
   ]
  },
  {
   "cell_type": "markdown",
   "metadata": {},
   "source": [
    "#### 10. Evaluation using Confusion Matrix and Accuracy"
   ]
  },
  {
   "cell_type": "code",
   "execution_count": 28,
   "metadata": {},
   "outputs": [],
   "source": [
    "from sklearn.metrics import multilabel_confusion_matrix, accuracy_score"
   ]
  },
  {
   "cell_type": "code",
   "execution_count": 35,
   "metadata": {},
   "outputs": [],
   "source": [
    "yhat = model.predict(X_test)\n",
    "ytrue = np.argmax(y_test, axis=1).tolist()\n",
    "yhat = np.argmax(yhat, axis=1).tolist()"
   ]
  },
  {
   "cell_type": "code",
   "execution_count": 36,
   "metadata": {},
   "outputs": [
    {
     "data": {
      "text/plain": [
       "array([[[4, 0],\n",
       "        [0, 1]],\n",
       "\n",
       "       [[4, 0],\n",
       "        [0, 1]],\n",
       "\n",
       "       [[2, 0],\n",
       "        [0, 3]]], dtype=int64)"
      ]
     },
     "execution_count": 36,
     "metadata": {},
     "output_type": "execute_result"
    }
   ],
   "source": [
    "multilabel_confusion_matrix(ytrue, yhat)"
   ]
  },
  {
   "cell_type": "code",
   "execution_count": 37,
   "metadata": {},
   "outputs": [
    {
     "data": {
      "text/plain": [
       "1.0"
      ]
     },
     "execution_count": 37,
     "metadata": {},
     "output_type": "execute_result"
    }
   ],
   "source": [
    "accuracy_score(ytrue, yhat)"
   ]
  },
  {
   "cell_type": "markdown",
   "metadata": {},
   "source": [
    "#### 11. Test in Real Time"
   ]
  },
  {
   "cell_type": "code",
   "execution_count": 38,
   "metadata": {},
   "outputs": [],
   "source": [
    "colors = [(245, 117, 16), (117, 245, 16), (16, 117, 245)]\n",
    "\n",
    "def prob_viz(res, actions, input_frame, colors):\n",
    "    output_frame = input_frame.copy()\n",
    "    for num, prob in enumerate(res):\n",
    "        cv2.rectangle(output_frame, (0,60+num*40), (int(prob*100), 90+num*40), colors[num], -1)\n",
    "        cv2.putText(output_frame, actions[num], (0, 85+num*40), cv2.FONT_HERSHEY_SIMPLEX, 1, (255,255,255), 2, cv2.LINE_AA)\n",
    "    \n",
    "    return output_frame"
   ]
  },
  {
   "cell_type": "code",
   "execution_count": 49,
   "metadata": {},
   "outputs": [],
   "source": [
    "sequence = []\n",
    "sentence = []\n",
    "predictions = []\n",
    "threshold = 0.4\n",
    "\n",
    "cap = cv2.VideoCapture(0)\n",
    "# Set mediapipe model\n",
    "with mp_holistic.Holistic(min_detection_confidence=0.5, min_tracking_confidence=0.5) as holistic :\n",
    "    while cap.isOpened():\n",
    "\n",
    "        # Read feed \n",
    "        ret, frame = cap.read()\n",
    "\n",
    "        # Make prediction\n",
    "        image, results = mediapipe_detection(frame, holistic)\n",
    "\n",
    "        # Draw landmarks\n",
    "        draw_landmarks(image, results)\n",
    "\n",
    "        # Prediction logic\n",
    "        keypoints = extract_keypoints(results)\n",
    "        sequence.append(keypoints)\n",
    "        sequence = sequence[-30:]\n",
    "\n",
    "        if len(sequence) == 30:\n",
    "            res = model.predict(np.expand_dims(sequence, axis=0))[0]\n",
    "            predictions.append(np.argmax(res))\n",
    "            # print(actions[np.argmax(res)])\n",
    "\n",
    "            if np.unique(predictions[-10:])[0] == np.argmax(res):\n",
    "                if res[np.argmax(res)] > threshold:\n",
    "\n",
    "                    if len(sentence) > 0:\n",
    "                        if actions[np.argmax(res)] != sentence[-1]:\n",
    "                            sentence.append(actions[np.argmax(res)])\n",
    "                        else :\n",
    "                            sentence.append(actions[np.argmax(res)])\n",
    "                if len(sentence) > 5:\n",
    "                    sentence = sentence[-5:]\n",
    "\n",
    "\n",
    "            image = prob_viz(res, actions, image, colors)\n",
    "        \n",
    "\n",
    "        cv2.rectangle(image, (0, 0), (640, 40), (245, 117, 16), -1)\n",
    "        cv2.putText(image,' '.join(sentence), (3,30),\n",
    "                    cv2.FONT_HERSHEY_SIMPLEX, 1, (255, 255, 255), 2, cv2.LINE_AA)\n",
    "\n",
    "        # Show to screen\n",
    "        cv2.imshow('OpenCV Feed', image)\n",
    "\n",
    "        # Break gracefully\n",
    "        if cv2.waitKey(10) & 0xFF == ord('q'):\n",
    "            break\n",
    "\n",
    "    cap.release()\n",
    "    cv2.destroyAllWindows()"
   ]
  },
  {
   "cell_type": "code",
   "execution_count": null,
   "metadata": {},
   "outputs": [],
   "source": [
    "cap.release()\n",
    "cv2.destroyAllWindows()"
   ]
  }
 ],
 "metadata": {
  "kernelspec": {
   "display_name": "sign",
   "language": "python",
   "name": "python3"
  },
  "language_info": {
   "codemirror_mode": {
    "name": "ipython",
    "version": 3
   },
   "file_extension": ".py",
   "mimetype": "text/x-python",
   "name": "python",
   "nbconvert_exporter": "python",
   "pygments_lexer": "ipython3",
   "version": "3.8.18"
  }
 },
 "nbformat": 4,
 "nbformat_minor": 2
}
